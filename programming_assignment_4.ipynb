{
 "cells": [
  {
   "cell_type": "markdown",
   "id": "6bbbb851",
   "metadata": {},
   "source": [
    "# Write a Python Program to Find the Factorial of a Number?"
   ]
  },
  {
   "cell_type": "code",
   "execution_count": 6,
   "id": "a06593e6",
   "metadata": {},
   "outputs": [
    {
     "name": "stdout",
     "output_type": "stream",
     "text": [
      "Enter a Number6\n",
      "720\n"
     ]
    }
   ],
   "source": [
    "def factorial(number):\n",
    "    fact=1\n",
    "    for i in range(2,number+1):\n",
    "        fact=fact*i\n",
    "    print(fact)\n",
    "number=int(input(\"Enter a Number \"))\n",
    "factorial(number)"
   ]
  },
  {
   "cell_type": "markdown",
   "id": "e06434f3",
   "metadata": {},
   "source": [
    "# Write a Python Program to Display the multiplication Table?\n"
   ]
  },
  {
   "cell_type": "code",
   "execution_count": 11,
   "id": "cb3eb91d",
   "metadata": {},
   "outputs": [
    {
     "name": "stdout",
     "output_type": "stream",
     "text": [
      "Enter a number: 6\n",
      "Enter limit: 50\n",
      "6 X 1 = 6\n",
      "6 X 2 = 12\n",
      "6 X 3 = 18\n",
      "6 X 4 = 24\n",
      "6 X 5 = 30\n",
      "6 X 6 = 36\n",
      "6 X 7 = 42\n",
      "6 X 8 = 48\n",
      "6 X 9 = 54\n",
      "6 X 10 = 60\n",
      "6 X 11 = 66\n",
      "6 X 12 = 72\n",
      "6 X 13 = 78\n",
      "6 X 14 = 84\n",
      "6 X 15 = 90\n",
      "6 X 16 = 96\n",
      "6 X 17 = 102\n",
      "6 X 18 = 108\n",
      "6 X 19 = 114\n",
      "6 X 20 = 120\n",
      "6 X 21 = 126\n",
      "6 X 22 = 132\n",
      "6 X 23 = 138\n",
      "6 X 24 = 144\n",
      "6 X 25 = 150\n",
      "6 X 26 = 156\n",
      "6 X 27 = 162\n",
      "6 X 28 = 168\n",
      "6 X 29 = 174\n",
      "6 X 30 = 180\n",
      "6 X 31 = 186\n",
      "6 X 32 = 192\n",
      "6 X 33 = 198\n",
      "6 X 34 = 204\n",
      "6 X 35 = 210\n",
      "6 X 36 = 216\n",
      "6 X 37 = 222\n",
      "6 X 38 = 228\n",
      "6 X 39 = 234\n",
      "6 X 40 = 240\n",
      "6 X 41 = 246\n",
      "6 X 42 = 252\n",
      "6 X 43 = 258\n",
      "6 X 44 = 264\n",
      "6 X 45 = 270\n",
      "6 X 46 = 276\n",
      "6 X 47 = 282\n",
      "6 X 48 = 288\n",
      "6 X 49 = 294\n",
      "6 X 50 = 300\n"
     ]
    }
   ],
   "source": [
    "def multiplication(number,limit):\n",
    "    for i in range(1,limit+1):\n",
    "        print(\"{0} X {1} = {2}\".format(number,i,number*i))\n",
    "num=int(input(\"Enter a number: \"))\n",
    "limit=int(input(\"Enter limit: \"))\n",
    "multiplication(num,limit)\n",
    "    "
   ]
  },
  {
   "cell_type": "markdown",
   "id": "da88a8d2",
   "metadata": {},
   "source": [
    "# Write a Python Program to Print the Fibonacci sequence?"
   ]
  },
  {
   "cell_type": "code",
   "execution_count": 22,
   "id": "561d761c",
   "metadata": {},
   "outputs": [
    {
     "name": "stdout",
     "output_type": "stream",
     "text": [
      "Enter a number2\n",
      "0\n",
      "1\n"
     ]
    }
   ],
   "source": [
    "def fibonacci(num):\n",
    "    n1=0\n",
    "    n2=1\n",
    "    for i in range(num):\n",
    "        print(n1)\n",
    "        nth=n1+n2\n",
    "        n1=n2\n",
    "        n2=nth\n",
    "        \n",
    "        \n",
    "num=int(input(\"Enter a number: \"))\n",
    "fibonacci(num)"
   ]
  },
  {
   "cell_type": "markdown",
   "id": "916ffd4c",
   "metadata": {},
   "source": [
    "# Write a Python Program to Check Armstrong Number?"
   ]
  },
  {
   "cell_type": "code",
   "execution_count": 30,
   "id": "cbb917a0",
   "metadata": {},
   "outputs": [
    {
     "name": "stdout",
     "output_type": "stream",
     "text": [
      "Enter a Number to check: 666\n",
      "666 is not a armstrong number\n"
     ]
    }
   ],
   "source": [
    "def armstrong(number):\n",
    "    sum=0\n",
    "    temp=number\n",
    "    while temp>0:\n",
    "        val=temp%10\n",
    "        sum=sum+val**3\n",
    "        temp//=10\n",
    "    if number==sum:\n",
    "        print(f\"{number} is a armstrong number\")\n",
    "    else:\n",
    "        print(f\"{number} is not a armstrong number\")\n",
    "        \n",
    "number=int(input(\"Enter a Number to check: \"))\n",
    "armstrong(number)\n",
    "        "
   ]
  },
  {
   "cell_type": "markdown",
   "id": "d61913ea",
   "metadata": {},
   "source": [
    "# Write a Python Program to Find Armstrong Number in an Interval?"
   ]
  },
  {
   "cell_type": "code",
   "execution_count": 35,
   "id": "42fcd535",
   "metadata": {},
   "outputs": [
    {
     "name": "stdout",
     "output_type": "stream",
     "text": [
      "Enter a lower interval value: 30\n",
      "Enter Upper value of the interval: 3000\n",
      "153 370 371 407 1634 "
     ]
    }
   ],
   "source": [
    "def armstrong(lower,upper):\n",
    "    for i in range(lower,upper+1):\n",
    "        sum=0\n",
    "        order_of_num=len(str(i))\n",
    "        temp=i\n",
    "        while temp>0:\n",
    "            val=temp%10\n",
    "            sum=sum+val**order_of_num\n",
    "            temp//=10\n",
    "        if i==sum:\n",
    "            print(i,end=\" \")\n",
    "            \n",
    "low=int(input(\"Enter a lower interval value: \"))\n",
    "high=int(input(\"Enter Upper value of the interval: \"))\n",
    "armstrong(low,high)"
   ]
  },
  {
   "cell_type": "markdown",
   "id": "2c022c0c",
   "metadata": {},
   "source": [
    "# Write a Python Program to Find the Sum of Natural Numbers?"
   ]
  },
  {
   "cell_type": "code",
   "execution_count": 40,
   "id": "ea2ecdb9",
   "metadata": {},
   "outputs": [
    {
     "name": "stdout",
     "output_type": "stream",
     "text": [
      "Enter a last number: 3\n",
      "6\n"
     ]
    }
   ],
   "source": [
    "def sum_of_number(num):\n",
    "    val=0\n",
    "    for i in range(1,num+1):\n",
    "        val=val+i\n",
    "    print(val)\n",
    "number=int(input(\"Enter a last number: \"))\n",
    "sum_of_number(number)"
   ]
  },
  {
   "cell_type": "code",
   "execution_count": null,
   "id": "598c2dc6",
   "metadata": {},
   "outputs": [],
   "source": []
  }
 ],
 "metadata": {
  "kernelspec": {
   "display_name": "Python 3 (ipykernel)",
   "language": "python",
   "name": "python3"
  },
  "language_info": {
   "codemirror_mode": {
    "name": "ipython",
    "version": 3
   },
   "file_extension": ".py",
   "mimetype": "text/x-python",
   "name": "python",
   "nbconvert_exporter": "python",
   "pygments_lexer": "ipython3",
   "version": "3.9.12"
  }
 },
 "nbformat": 4,
 "nbformat_minor": 5
}
