{
 "cells": [
  {
   "cell_type": "markdown",
   "id": "2ed69c69",
   "metadata": {},
   "source": [
    "## Python progam to find the LCM of given two numbers."
   ]
  },
  {
   "cell_type": "code",
   "execution_count": 4,
   "id": "14bc64ea",
   "metadata": {},
   "outputs": [
    {
     "name": "stdout",
     "output_type": "stream",
     "text": [
      "Enter first Number 2\n",
      "Enter Second Number 3\n",
      "The L.C.M. of 2 and 3 is 6\n"
     ]
    }
   ],
   "source": [
    "def lcm_numbers(a,b):\n",
    "    if a>b:\n",
    "        greater=a\n",
    "    else:\n",
    "        greater=b\n",
    "    while True:\n",
    "        if((greater%a==0)and(greater%b==0)):\n",
    "            lcm=greater\n",
    "            break\n",
    "        greater+=1\n",
    "    return(lcm)\n",
    "num1=int(input(\"Enter first Number \"))\n",
    "num2=int(input(\"Enter Second Number \"))\n",
    "print(f\"The L.C.M. of {num1} and {num2} is {lcm_numbers(num1,num2)}\")"
   ]
  },
  {
   "cell_type": "markdown",
   "id": "ef724dc8",
   "metadata": {},
   "source": [
    "# python program to find the HCF of given numbers."
   ]
  },
  {
   "cell_type": "code",
   "execution_count": 5,
   "id": "f6804090",
   "metadata": {},
   "outputs": [
    {
     "name": "stdout",
     "output_type": "stream",
     "text": [
      "Enter first Number 3\n",
      "Enter Second Number 6\n",
      "The H.C.F. of 3 and 6 is 3\n"
     ]
    }
   ],
   "source": [
    "def hcf_numbrs(a,b):\n",
    "    if a<b:\n",
    "        smaller=a\n",
    "    else:\n",
    "        smaller=b\n",
    "    for i in range(1,smaller+1):\n",
    "        if((a%i==0) and (b%i==0)):\n",
    "            hcf=i\n",
    "    return hcf\n",
    "num1=int(input(\"Enter first Number \"))\n",
    "num2=int(input(\"Enter Second Number \"))\n",
    "print(f\"The H.C.F. of {num1} and {num2} is {hcf_numbrs(num1,num2)}\")\n"
   ]
  },
  {
   "cell_type": "markdown",
   "id": "f1449ed3",
   "metadata": {},
   "source": [
    "# Python program to convert decimal to other number system"
   ]
  },
  {
   "cell_type": "code",
   "execution_count": 10,
   "id": "206965e3",
   "metadata": {},
   "outputs": [
    {
     "name": "stdout",
     "output_type": "stream",
     "text": [
      "Enter the Value in Decimal :5\n",
      "The decimal value of 5 is: 0b101 in binary\t 0o5 in octal\t 0x5 in Hexadecimal\n"
     ]
    }
   ],
   "source": [
    "num=int(input(\"Enter the Value in Decimal :\"))\n",
    "\n",
    "print(f\"The decimal value of {num} is: {bin(num)} in binary\\t {oct(num)} in octal\\t {hex(num)} in Hexadecimal\")\n"
   ]
  },
  {
   "cell_type": "markdown",
   "id": "dceaea17",
   "metadata": {},
   "source": [
    "# Python program to convert the given character into corresponding ASCII values "
   ]
  },
  {
   "cell_type": "code",
   "execution_count": 13,
   "id": "d52dd50b",
   "metadata": {},
   "outputs": [
    {
     "name": "stdout",
     "output_type": "stream",
     "text": [
      "Enter the character you choose to convert it into corresponding ascii value: k\n",
      "The corresponding ASCII value of the k is 107\n"
     ]
    }
   ],
   "source": [
    "char=input(\"Enter the character you choose to convert it into corresponding ascii value: \")\n",
    "print(f\"The corresponding ASCII value of the {char} is {ord(char)}\")"
   ]
  },
  {
   "cell_type": "code",
   "execution_count": 16,
   "id": "9aad943e",
   "metadata": {},
   "outputs": [
    {
     "name": "stdout",
     "output_type": "stream",
     "text": [
      "Enter first number 5\n",
      "Enter second number 6\n",
      "1.Addition\n",
      "2.subtraction\n",
      "3.multiplication\n",
      "4.division\n",
      "5.exit\n",
      "Enter your choice: 2\n",
      "subtraction of 5 & 6 is -1\n",
      "1.Addition\n",
      "2.subtraction\n",
      "3.multiplication\n",
      "4.division\n",
      "5.exit\n",
      "Enter your choice: 5\n"
     ]
    }
   ],
   "source": [
    "\n",
    "def addition(x,y):\n",
    "    return(x+y)\n",
    "def subtraction(x,y):\n",
    "    return(x-y)\n",
    "def multiplication(x,y):\n",
    "    return(x*y)\n",
    "def division(x,y):\n",
    "    return(x/y)\n",
    "a=int(input(\"Enter first number \"))\n",
    "b=int(input(\"Enter second number \"))\n",
    "while True:\n",
    "    ch=int(input(\"\\n\\n1.Addition\\n2.subtraction\\n3.multiplication\\n4.division\\n5.exit\\nEnter your choice: \"))\n",
    "    if ch==1:\n",
    "        print(f\"Addition of {a} & {b} is {addition(a,b)}\")\n",
    "    elif ch==2:\n",
    "        print(f\"subtraction of {a} & {b} is {subtraction(a,b)}\")\n",
    "    elif ch==3:\n",
    "        print(f\"multiplication of {a} & {b} is {multiplication(a,b)}\")\n",
    "    elif ch==4:\n",
    "        print(f\"division of {a} & {b} is {division(a,b)}\")\n",
    "    elif ch==5:\n",
    "        break"
   ]
  },
  {
   "cell_type": "code",
   "execution_count": null,
   "id": "44875562",
   "metadata": {},
   "outputs": [],
   "source": []
  }
 ],
 "metadata": {
  "kernelspec": {
   "display_name": "Python 3 (ipykernel)",
   "language": "python",
   "name": "python3"
  },
  "language_info": {
   "codemirror_mode": {
    "name": "ipython",
    "version": 3
   },
   "file_extension": ".py",
   "mimetype": "text/x-python",
   "name": "python",
   "nbconvert_exporter": "python",
   "pygments_lexer": "ipython3",
   "version": "3.9.12"
  }
 },
 "nbformat": 4,
 "nbformat_minor": 5
}
