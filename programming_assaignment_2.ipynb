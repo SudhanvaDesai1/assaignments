{
 "cells": [
  {
   "cell_type": "markdown",
   "id": "3caf7be4",
   "metadata": {},
   "source": [
    "#Write a Python program to convert kilometers to miles"
   ]
  },
  {
   "cell_type": "markdown",
   "id": "883e0b51",
   "metadata": {},
   "source": [
    "kilometers  = float(input(\"Enter the Reading in kilometers: \"))\n",
    "miles = kilometers*0.1624\n",
    "print(\"The value of \",kilometers,\" in miles: \",miles)"
   ]
  },
  {
   "cell_type": "markdown",
   "id": "40025cac",
   "metadata": {},
   "source": [
    "#Write a Python program to convert Celsius to Fahrenheit?"
   ]
  },
  {
   "cell_type": "markdown",
   "id": "be49bb07",
   "metadata": {},
   "source": [
    "celsius = float(input(\"Enter the reading in Celsius\"))\n",
    "fehrenheit=celsius*1.8+32\n",
    "print(\"The value of \",celsius,\"in fehrenheit : \",fehrenheit)"
   ]
  },
  {
   "cell_type": "markdown",
   "id": "73b51607",
   "metadata": {},
   "source": [
    "#Write a Python program to display calendar?"
   ]
  },
  {
   "cell_type": "markdown",
   "id": "b194f651",
   "metadata": {},
   "source": [
    "import calendar\n",
    "\n",
    "yy=int(input(\"Enter the year: \"))\n",
    "mm=int(input(\"Enter the Month: \"))\n",
    "print(\"\")\n",
    "\n",
    "print(calendar.month(yy, mm))"
   ]
  },
  {
   "cell_type": "markdown",
   "id": "256a4b6a",
   "metadata": {},
   "source": [
    "#Write a Python program to solve quadratic equation?"
   ]
  },
  {
   "cell_type": "markdown",
   "id": "d6c1cb3b",
   "metadata": {},
   "source": [
    "print(\"ax2+bx+c\")\n",
    "a=int(input(\"Enter the value of a : \"))\n",
    "b=int(input(\"Enter the value of b : \"))\n",
    "c=int(input(\"Enter the value of c : \"))\n",
    "d=b**2-4*a*c\n",
    "root_1=(-b+d**0.5)/(2*a)\n",
    "root_2=(-b-d**0.5)/(2*a)\n",
    "\n",
    "print(\"The roots are: \")\n",
    "print(\"root_1: \",root_1)\n",
    "print(\"root_2: \",root_2)"
   ]
  },
  {
   "cell_type": "markdown",
   "id": "d555ea9f",
   "metadata": {},
   "source": [
    "#Write a Python program to swap two variables without temp variable?"
   ]
  },
  {
   "cell_type": "markdown",
   "id": "539bff56",
   "metadata": {},
   "source": [
    "a=int(input(\"Enter the first number: \"))\n",
    "b=int(input(\"Enter teh second number: \"))\n",
    "print(\"values of a and b before swapping: \",a,b)\n",
    "a,b=b,a\n",
    "print(\"Values of a and b after swapping: \",a,b)"
   ]
  },
  {
   "cell_type": "markdown",
   "id": "9b7142b9",
   "metadata": {},
   "source": []
  }
 ],
 "metadata": {
  "kernelspec": {
   "display_name": "Python 3 (ipykernel)",
   "language": "python",
   "name": "python3"
  },
  "language_info": {
   "codemirror_mode": {
    "name": "ipython",
    "version": 3
   },
   "file_extension": ".py",
   "mimetype": "text/x-python",
   "name": "python",
   "nbconvert_exporter": "python",
   "pygments_lexer": "ipython3",
   "version": "3.9.12"
  }
 },
 "nbformat": 4,
 "nbformat_minor": 5
}
