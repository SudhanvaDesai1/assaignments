{
 "cells": [
  {
   "cell_type": "code",
   "execution_count": 8,
   "id": "568a94d4",
   "metadata": {},
   "outputs": [
    {
     "name": "stdout",
     "output_type": "stream",
     "text": [
      "Hello world\n"
     ]
    }
   ],
   "source": [
    "#Write a Python program to print \"Hello world\"\n",
    "\n",
    "print(\"Hello world\")"
   ]
  },
  {
   "cell_type": "code",
   "execution_count": 7,
   "id": "c6786f7b",
   "metadata": {},
   "outputs": [
    {
     "name": "stdout",
     "output_type": "stream",
     "text": [
      "Enter 1st number: 9\n",
      "Enter 2nd number: 5\n",
      "sum of two numbers =  14\n",
      "Division of two numbers =  1\n"
     ]
    }
   ],
   "source": [
    "#Write a program to do arithematic operations addition and division\n",
    "\n",
    "num_1=int(input(\"Enter 1st number: \"))\n",
    "num_2=int(input(\"Enter 2nd number: \"))\n",
    "print(\"sum of two numbers = \",num_1+num_2)\n",
    "print(\"Division of two numbers = \",int(num_1/num_2))"
   ]
  },
  {
   "cell_type": "code",
   "execution_count": 9,
   "id": "565fb48a",
   "metadata": {},
   "outputs": [
    {
     "name": "stdout",
     "output_type": "stream",
     "text": [
      "Area of the Triangle:   24.0\n"
     ]
    }
   ],
   "source": [
    "#Write a Python program to find the area of a triangle?\n",
    "\n",
    "base=8.00\n",
    "height=6.00\n",
    "area=(1/2)*base*height\n",
    "print(\"Area of the Triangle:  \",area)"
   ]
  },
  {
   "cell_type": "code",
   "execution_count": 11,
   "id": "ce5ae32d",
   "metadata": {},
   "outputs": [
    {
     "name": "stdout",
     "output_type": "stream",
     "text": [
      "Enter the first number: 5\n",
      "Enter the second number: 6\n",
      "Before swaping of numbers:  5 6\n",
      "After swaping of numbers:  6 5\n"
     ]
    }
   ],
   "source": [
    "#Write a Python program to swap two variables?\n",
    "\n",
    "a=int(input(\"Enter the first number: \"))\n",
    "b=int(input(\"Enter the second number: \"))\n",
    "print(\"Before swaping of numbers: \",a, b)\n",
    "temp=a\n",
    "a=b\n",
    "b=temp\n",
    "print(\"After swaping of numbers: \",a, b)"
   ]
  },
  {
   "cell_type": "code",
   "execution_count": 16,
   "id": "c1ee136a",
   "metadata": {},
   "outputs": [
    {
     "name": "stdout",
     "output_type": "stream",
     "text": [
      "A random number from range is : 41\n"
     ]
    }
   ],
   "source": [
    "#Program to generate the random number?\n",
    "\n",
    "\n",
    "import random\n",
    "print(\"A random number from range is : \", end=\"\")\n",
    "print(random.randrange(20, 50, 3))"
   ]
  },
  {
   "cell_type": "code",
   "execution_count": null,
   "id": "0dda31c4",
   "metadata": {},
   "outputs": [],
   "source": []
  }
 ],
 "metadata": {
  "kernelspec": {
   "display_name": "Python 3 (ipykernel)",
   "language": "python",
   "name": "python3"
  },
  "language_info": {
   "codemirror_mode": {
    "name": "ipython",
    "version": 3
   },
   "file_extension": ".py",
   "mimetype": "text/x-python",
   "name": "python",
   "nbconvert_exporter": "python",
   "pygments_lexer": "ipython3",
   "version": "3.9.12"
  }
 },
 "nbformat": 4,
 "nbformat_minor": 5
}
